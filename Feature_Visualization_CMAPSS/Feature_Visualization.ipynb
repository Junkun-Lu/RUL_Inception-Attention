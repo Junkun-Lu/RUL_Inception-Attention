{
 "cells": [
  {
   "cell_type": "markdown",
   "metadata": {},
   "source": [
    "In this file, we know which features are available by visualisation.  \n",
    "Pictures of FD001 ~ FD004 are in folder Feature_Visualization. "
   ]
  },
  {
   "cell_type": "code",
   "execution_count": 1,
   "metadata": {},
   "outputs": [],
   "source": [
    "import pandas as pd\n",
    "import matplotlib.pyplot as plt"
   ]
  },
  {
   "cell_type": "code",
   "execution_count": 2,
   "metadata": {},
   "outputs": [],
   "source": [
    "df_train = pd.read_csv(\"D:/study\\Master-Thesis/数据集-RUL/CMaps/train_FD004.txt\", sep = ' ', header = None)\n",
    "df_test = pd.read_csv(\"D:/study/Master-Thesis/数据集-RUL/CMaps/test_FD004.txt\", sep = ' ', header = None)\n",
    "df_RUL = pd.read_csv(\"D:/study/Master-Thesis/数据集-RUL/CMaps/RUL_FD004.txt\", header = None)"
   ]
  },
  {
   "cell_type": "code",
   "execution_count": 3,
   "metadata": {},
   "outputs": [],
   "source": [
    "col_list = ['engine_id', 'cycle', 'setting1', 'setting2', 'setting3', \n",
    "            's1', 's2', 's3', 's4', 's5', 's6', 's7', 's8', 's9', 's10', \n",
    "            's11', 's12', 's13', 's14', 's15', 's16', 's17', 's18', \n",
    "            's19', 's20', 's21']\n",
    "\n",
    "df_train = df_train[list(range(26))]\n",
    "df_train.columns = col_list\n",
    "\n",
    "df_test = df_test[list(range(26))]\n",
    "df_test.columns = col_list"
   ]
  },
  {
   "cell_type": "code",
   "execution_count": null,
   "metadata": {},
   "outputs": [],
   "source": [
    "# Making sure no missing values are there in the data\n",
    "df_train.info(verbose=True)\n",
    "df_test.info(verbose=True)"
   ]
  },
  {
   "cell_type": "code",
   "execution_count": null,
   "metadata": {},
   "outputs": [],
   "source": [
    "# Plotting the sensor measurements, to see significant changing trend from healty state and failure.\n",
    "\n",
    "fig, ax = plt.subplots(ncols=4, nrows =6, figsize=(24, 20))\n",
    "ax = ax.ravel()\n",
    "for i, item in enumerate(col_list[2:]):\n",
    "  df_train.groupby('engine_id').plot(kind='line', x = \"cycle\", y = item, ax=ax[i])\n",
    "  ax[i].get_legend().remove()\n",
    "  ax[i].title.set_text(item)\n",
    "plt.subplots_adjust(top = 0.99, bottom = 0.01, hspace = 0.3, wspace = 0.2)\n",
    "plt.show()"
   ]
  }
 ],
 "metadata": {
  "kernelspec": {
   "display_name": "Python 3.8.8 ('base')",
   "language": "python",
   "name": "python3"
  },
  "language_info": {
   "codemirror_mode": {
    "name": "ipython",
    "version": 3
   },
   "file_extension": ".py",
   "mimetype": "text/x-python",
   "name": "python",
   "nbconvert_exporter": "python",
   "pygments_lexer": "ipython3",
   "version": "3.8.8"
  },
  "orig_nbformat": 4,
  "vscode": {
   "interpreter": {
    "hash": "88279d2366fe020547cde40dd65aa0e3aa662a6ec1f3ca12d88834876c85e1a6"
   }
  }
 },
 "nbformat": 4,
 "nbformat_minor": 2
}
